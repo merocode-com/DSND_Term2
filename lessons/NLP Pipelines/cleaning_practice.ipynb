{
 "cells": [
  {
   "cell_type": "markdown",
   "metadata": {},
   "source": [
    "# Cleaning Quiz: Udacity's Course Catalog\n",
    "It's your turn! Udacity's [course catalog page](https://www.udacity.com/courses/all) has changed since the last video was filmed. One notable change is the introduction of  _schools_.\n",
    "\n",
    "In this activity, you're going to perform similar actions with BeautifulSoup to extract the following information from each course listing on the page:\n",
    "1. The course name - e.g. \"Data Analyst\"\n",
    "2. The school the course belongs to - e.g. \"School of Data Science\"\n",
    "\n",
    "**Note: All solution notebooks can be found by clicking on the Jupyter icon on the top left of this workspace.**"
   ]
  },
  {
   "cell_type": "markdown",
   "metadata": {},
   "source": [
    "### Step 1: Get text from Udacity's course catalog web page\n",
    "You can use the `requests` library to do this.\n",
    "\n",
    "Outputting all the javascript, CSS, and text may overload the space available to load this notebook, so we omit a print statement here."
   ]
  },
  {
   "cell_type": "code",
   "execution_count": 3,
   "metadata": {},
   "outputs": [],
   "source": [
    "# import statements\n",
    "import requests\n",
    "from bs4 import BeautifulSoup"
   ]
  },
  {
   "cell_type": "code",
   "execution_count": 4,
   "metadata": {},
   "outputs": [],
   "source": [
    "# fetch web page\n",
    "r = requests.get('https://www.udacity.com/courses/all')"
   ]
  },
  {
   "cell_type": "markdown",
   "metadata": {},
   "source": [
    "### Step 2: Use BeautifulSoup to remove HTML tags\n",
    "Use `\"lxml\"` rather than `\"html5lib\"`.\n",
    "\n",
    "Again, printing this entire result may overload the space available to load this notebook, so we omit a print statement here."
   ]
  },
  {
   "cell_type": "code",
   "execution_count": 5,
   "metadata": {},
   "outputs": [],
   "source": [
    "soup = BeautifulSoup(r.text, 'lxml')"
   ]
  },
  {
   "cell_type": "markdown",
   "metadata": {},
   "source": [
    "### Step 3: Find all course summaries\n",
    "Use the BeautifulSoup's `find_all` method to select based on tag type and class name. Just like in the video, you can right click on the item, and click \"Inspect\" to view its html on a web page."
   ]
  },
  {
   "cell_type": "code",
   "execution_count": 6,
   "metadata": {},
   "outputs": [
    {
     "name": "stdout",
     "output_type": "stream",
     "text": [
      "Number of Courses: 253\n"
     ]
    }
   ],
   "source": [
    "# Find all course summaries\n",
    "summaries = soup.find_all('li', {'class':'catalog-card-list_catalogCardListItem__3NGbS'})\n",
    "print('Number of Courses:', len(summaries))"
   ]
  },
  {
   "cell_type": "markdown",
   "metadata": {},
   "source": [
    "### Step 4: Inspect the first summary to find selectors for the course name and school\n",
    "Tip: `.prettify()` is a super helpful method BeautifulSoup provides to output html in a nicely indented form! Make sure to use `print()` to ensure whitespace is displayed properly."
   ]
  },
  {
   "cell_type": "code",
   "execution_count": 7,
   "metadata": {},
   "outputs": [
    {
     "name": "stdout",
     "output_type": "stream",
     "text": [
      "<li class=\"catalog-card-list_catalogCardListItem__3NGbS\">\n",
      " <a aria-label=\"Data Engineer\" data-testid=\"catalog-card-lemur\" href=\"/course/data-engineer-nanodegree--nd027\">\n",
      "  <article class=\"_catalog-card-lemur_container__65veZ\">\n",
      "   <div class=\"_catalog-card-lemur_imageContainer__3-Pnr\">\n",
      "    <ul class=\"_catalog-card-lemur_featureFlagContainer__979NY\" data-mobileonly=\"true\">\n",
      "     <li data-type=\"new\">\n",
      "      <small>\n",
      "       New\n",
      "      </small>\n",
      "     </li>\n",
      "    </ul>\n",
      "    <div class=\"_catalog-card-lemur_programImage__30sPB\" style=\"background-image:url(data:image/png;base64,iVBORw0KGgoAAAANSUhEUgAAAAEAAAABAQMAAAAl21bKAAAAA1BMVEVMaXFNx9g6AAAAAXRSTlMAQObYZgAAAApJREFUeNpjYAAAAAIAAeUn3vwAAAAASUVORK5CYII)\">\n",
      "    </div>\n",
      "   </div>\n",
      "   <div class=\"_catalog-card-lemur_body__1-oK_\">\n",
      "    <div>\n",
      "     <ul class=\"_catalog-card-lemur_featureFlagContainer__979NY\" data-mobileonly=\"false\">\n",
      "      <li data-type=\"new\">\n",
      "       <small>\n",
      "        New\n",
      "       </small>\n",
      "      </li>\n",
      "     </ul>\n",
      "     <h2>\n",
      "      Data Engineer\n",
      "     </h2>\n",
      "     <h3>\n",
      "      School of Data Science\n",
      "     </h3>\n",
      "     <div class=\"_catalog-card-lemur_reviews__2nBv7\" data-mobileonly=\"true\">\n",
      "      <div class=\"nd-rating-stars m--small\">\n",
      "       <div class=\"active-stars\" style=\"width:91.15060804490176%\">\n",
      "       </div>\n",
      "      </div>\n",
      "      <small>\n",
      "       1069\n",
      "       <!-- -->\n",
      "       reviews\n",
      "      </small>\n",
      "     </div>\n",
      "     <p>\n",
      "      Data Engineering is the foundation for the new world of Big Data. Enroll now to build production-ready data infrastructure, an essential skill for advancing your data career.\n",
      "     </p>\n",
      "    </div>\n",
      "    <ul class=\"_catalog-card-lemur_stats__3ASYn\">\n",
      "     <li data-level=\"intermediate\">\n",
      "      intermediate\n",
      "     </li>\n",
      "     <li data-duration=\"\">\n",
      "      5 Months\n",
      "     </li>\n",
      "     <li>\n",
      "      <div class=\"_catalog-card-lemur_reviews__2nBv7\" data-mobileonly=\"false\">\n",
      "       <div class=\"nd-rating-stars m--small\">\n",
      "        <div class=\"active-stars\" style=\"width:91.15060804490176%\">\n",
      "        </div>\n",
      "       </div>\n",
      "       <small>\n",
      "        1069\n",
      "        <!-- -->\n",
      "        reviews\n",
      "       </small>\n",
      "      </div>\n",
      "     </li>\n",
      "    </ul>\n",
      "    <div class=\"_catalog-card-lemur_overview__3vHct\">\n",
      "     <section>\n",
      "      <h4>\n",
      "       Skills Covered\n",
      "      </h4>\n",
      "      <p>\n",
      "       Data Modeling, Data Pipelines, Data Lakes, Spark, Airflow\n",
      "      </p>\n",
      "     </section>\n",
      "     <section>\n",
      "      <h4>\n",
      "       Prerequisites\n",
      "      </h4>\n",
      "      <p>\n",
      "       Intermediate Python &amp; SQL\n",
      "      </p>\n",
      "     </section>\n",
      "    </div>\n",
      "   </div>\n",
      "   <div class=\"_catalog-card-lemur_actionButtonsContainer__2bkCr\">\n",
      "    <div>\n",
      "     <button class=\"btn button--primary\">\n",
      "      Program Details\n",
      "     </button>\n",
      "     <button class=\"btn button--white-outlined\">\n",
      "      Download Syllabus\n",
      "     </button>\n",
      "    </div>\n",
      "    <div>\n",
      "     <h4>\n",
      "      In Collaboration With\n",
      "     </h4>\n",
      "     <p>\n",
      "      Insight\n",
      "     </p>\n",
      "    </div>\n",
      "   </div>\n",
      "  </article>\n",
      " </a>\n",
      " <div class=\"simple-modal\">\n",
      " </div>\n",
      "</li>\n",
      "\n"
     ]
    }
   ],
   "source": [
    "# print the first summary in summaries\n",
    "print(summaries[0].prettify())"
   ]
  },
  {
   "cell_type": "markdown",
   "metadata": {},
   "source": [
    "Look for selectors that contain the courses title and school name text you want to extract. Then, use the `select_one` method on the summary object to pull out the html with those selectors. Afterwards, don't forget to do some extra cleaning to isolate the names (get rid of unnecessary html), as you saw in the last video."
   ]
  },
  {
   "cell_type": "code",
   "execution_count": 11,
   "metadata": {},
   "outputs": [
    {
     "data": {
      "text/plain": [
       "'Data Engineer'"
      ]
     },
     "execution_count": 11,
     "metadata": {},
     "output_type": "execute_result"
    }
   ],
   "source": [
    "# Extract course title\n",
    "summaries[0].select_one('h2').getText()"
   ]
  },
  {
   "cell_type": "code",
   "execution_count": 12,
   "metadata": {},
   "outputs": [
    {
     "data": {
      "text/plain": [
       "'School of Data Science'"
      ]
     },
     "execution_count": 12,
     "metadata": {},
     "output_type": "execute_result"
    }
   ],
   "source": [
    "# Extract school\n",
    "summaries[0].select_one('h3').getText()"
   ]
  },
  {
   "cell_type": "markdown",
   "metadata": {},
   "source": [
    "### Step 5: Collect names and schools of ALL course listings\n",
    "Reuse your code from the previous step, but now in a loop to extract the name and school from every course summary in `summaries`!"
   ]
  },
  {
   "cell_type": "code",
   "execution_count": 13,
   "metadata": {},
   "outputs": [],
   "source": [
    "courses = []\n",
    "for summary in summaries:\n",
    "    # append name and school of each summary to courses list\n",
    "    title = summary.select_one('h2').getText()\n",
    "    school = summary.select_one('h3').getText()\n",
    "    courses.append((title, school))"
   ]
  },
  {
   "cell_type": "code",
   "execution_count": 14,
   "metadata": {},
   "outputs": [
    {
     "name": "stdout",
     "output_type": "stream",
     "text": [
      "253 course summaries found. Sample:\n"
     ]
    },
    {
     "data": {
      "text/plain": [
       "[('Data Engineer', 'School of Data Science'),\n",
       " ('Data Scientist', 'School of Data Science'),\n",
       " ('Data Analyst', 'School of Data Science'),\n",
       " ('Programming for Data Science with Python', 'School of Data Science'),\n",
       " ('Digital Marketing', 'School of Business'),\n",
       " ('UX Designer', 'School of Business'),\n",
       " ('Business Analytics', 'School of Business'),\n",
       " ('Product Manager', 'School of Business'),\n",
       " ('Introduction to Programming', 'School of Programming & Development'),\n",
       " ('Deep Learning', 'School of Artificial Intelligence'),\n",
       " ('Front End Web Developer', 'School of Programming & Development'),\n",
       " ('Artificial Intelligence for Trading', 'School of Artificial Intelligence'),\n",
       " ('AI Programming with Python', 'School of Artificial Intelligence'),\n",
       " ('Blockchain Developer', 'School of Programming & Development'),\n",
       " ('Machine Learning Engineer', 'School of Artificial Intelligence'),\n",
       " ('C++', 'School of Autonomous Systems'),\n",
       " ('SQL', 'School of Data Science'),\n",
       " ('Full Stack Web Developer', 'School of Programming & Development'),\n",
       " ('Self Driving Car Engineer', 'School of Autonomous Systems'),\n",
       " ('Java Developer', 'School of Programming & Development')]"
      ]
     },
     "execution_count": 14,
     "metadata": {},
     "output_type": "execute_result"
    }
   ],
   "source": [
    "# display results\n",
    "print(len(courses), \"course summaries found. Sample:\")\n",
    "courses[:20]"
   ]
  },
  {
   "cell_type": "code",
   "execution_count": null,
   "metadata": {},
   "outputs": [],
   "source": []
  }
 ],
 "metadata": {
  "kernelspec": {
   "display_name": "Python 3",
   "language": "python",
   "name": "python3"
  },
  "language_info": {
   "codemirror_mode": {
    "name": "ipython",
    "version": 3
   },
   "file_extension": ".py",
   "mimetype": "text/x-python",
   "name": "python",
   "nbconvert_exporter": "python",
   "pygments_lexer": "ipython3",
   "version": "3.7.6"
  }
 },
 "nbformat": 4,
 "nbformat_minor": 2
}
